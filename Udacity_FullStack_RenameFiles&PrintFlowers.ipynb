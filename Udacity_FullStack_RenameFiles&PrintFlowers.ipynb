{
 "cells": [
  {
   "cell_type": "markdown",
   "metadata": {},
   "source": [
    "###   Udacity: Use functions\n",
    "### Delet the numbers infront of the namefiles"
   ]
  },
  {
   "cell_type": "code",
   "execution_count": 1,
   "metadata": {},
   "outputs": [],
   "source": [
    "from string import maketrans\n",
    "import os"
   ]
  },
  {
   "cell_type": "code",
   "execution_count": 10,
   "metadata": {},
   "outputs": [],
   "source": [
    "def rename_files(filepath):\n",
    "    #read the file\n",
    "    filelist=os.listdir(filepath)#read all the names of files\n",
    "    print(filelist)\n",
    "    saved_path=os.getcwd()#exam where to find files\n",
    "    os.chdir(filepath)#working directory and the file place may vary and cause error\n",
    "    #rename the file\n",
    "    for filename in filelist:\n",
    "        os.rename(filename,filename.translate(None,'0123456789'))\n",
    "    os.chdir(saved_path)#return to our file location\n",
    "    #read the errors and know what to do to fix it"
   ]
  },
  {
   "cell_type": "code",
   "execution_count": 11,
   "metadata": {},
   "outputs": [
    {
     "name": "stdout",
     "output_type": "stream",
     "text": [
      "['.DS_Store', 'athens.jpg', 'austin.jpg', 'bangalore.jpg', 'barcelona.jpg', 'beijing.jpg', 'berkeley.jpg', 'bogota.jpg', 'bristol.jpg', 'bucharest.jpg', 'buenos aires.jpg', 'cairo.jpg', 'chennai.jpg', 'chicago.jpg', 'colombo.jpg', 'dallas.jpg', 'delhi.jpg', 'edinbrugh.jpg', 'gainesville.jpg', 'houston.jpg', 'hyderabad.jpg', 'istanbul.jpg', 'ithaca.jpg', 'jacksonville.jpg', 'karachi.jpg', 'kiev.jpg', 'london.jpg', 'los angeles.jpg', 'madrid.jpg', 'manchester.jpg', 'miami.jpg', 'new york.jpg', 'oakland.jpg', 'pune.jpg', 'rochester.jpg', 'san diego.jpg', 'san jose.jpg', 'sao paulo.jpg', 'seattle.jpg', 'seoul.jpg', 'shanghai.jpg', 'singapore.jpg', 'sunnyvale.jpg', 'sydney.jpg', 'tel aviv.jpg']\n"
     ]
    }
   ],
   "source": [
    "rename_files('/Users/chenchuqiao/Downloads/prank')\n",
    "#now I already change the names of the files"
   ]
  },
  {
   "cell_type": "code",
   "execution_count": 12,
   "metadata": {},
   "outputs": [],
   "source": [
    "##Using classes"
   ]
  },
  {
   "cell_type": "code",
   "execution_count": 13,
   "metadata": {},
   "outputs": [],
   "source": [
    "#ALways think: what step by step instructions would you give me to do this functions:"
   ]
  },
  {
   "cell_type": "code",
   "execution_count": 58,
   "metadata": {},
   "outputs": [],
   "source": [
    "import turtle#paly with turtle"
   ]
  },
  {
   "cell_type": "code",
   "execution_count": 59,
   "metadata": {},
   "outputs": [],
   "source": [
    "def draw_triangle():\n",
    "    window=turtle.Screen()#give background\n",
    "    window.bgcolor('green')#give background color\n",
    "    \n",
    "    brad=turtle.Turtle()#draw\n",
    "    brad.shape('turtle')\n",
    "    brad.speed(2)\n",
    "    brad.color('yellow')\n",
    "    for i in range(12):\n",
    "        brad.right(30)\n",
    "        for i in range(4):\n",
    "            brad.forward(100)#donnot wanna for loop: use function instead\n",
    "            brad.right(90)\n",
    "    \n",
    "    window.exitonclick()#exit when click"
   ]
  },
  {
   "cell_type": "code",
   "execution_count": 60,
   "metadata": {},
   "outputs": [],
   "source": [
    "draw_triangle()"
   ]
  },
  {
   "cell_type": "code",
   "execution_count": 73,
   "metadata": {},
   "outputs": [],
   "source": [
    "def draw_flower():\n",
    "    window=turtle.Screen()#give background\n",
    "    window.bgcolor('green')#give background color\n",
    "    \n",
    "    brad=turtle.Turtle()#draw\n",
    "    brad.shape('turtle')\n",
    "    brad.speed(5)\n",
    "    brad.color('yellow')\n",
    "    for i in range(12):\n",
    "        brad.left(5)\n",
    "        for i in range(2):\n",
    "            brad.forward(100)#donnot wanna for loop: use function instead\n",
    "            brad.right(30)\n",
    "            brad.forward(100)\n",
    "            brad.right(150)\n",
    "            brad.forward(100)\n",
    "            brad.right(30)\n",
    "            brad.forward(100)"
   ]
  },
  {
   "cell_type": "code",
   "execution_count": 74,
   "metadata": {},
   "outputs": [],
   "source": [
    "draw_flower()"
   ]
  },
  {
   "cell_type": "code",
   "execution_count": null,
   "metadata": {},
   "outputs": [],
   "source": []
  }
 ],
 "metadata": {
  "kernelspec": {
   "display_name": "Python 2",
   "language": "python",
   "name": "python2"
  },
  "language_info": {
   "codemirror_mode": {
    "name": "ipython",
    "version": 2
   },
   "file_extension": ".py",
   "mimetype": "text/x-python",
   "name": "python",
   "nbconvert_exporter": "python",
   "pygments_lexer": "ipython2",
   "version": "2.7.14"
  }
 },
 "nbformat": 4,
 "nbformat_minor": 2
}
